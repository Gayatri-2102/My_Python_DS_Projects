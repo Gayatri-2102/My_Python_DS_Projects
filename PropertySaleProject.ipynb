{
 "cells": [
  {
   "cell_type": "code",
   "execution_count": 1,
   "metadata": {},
   "outputs": [
    {
     "data": {
      "text/html": [
       "<div>\n",
       "<style scoped>\n",
       "    .dataframe tbody tr th:only-of-type {\n",
       "        vertical-align: middle;\n",
       "    }\n",
       "\n",
       "    .dataframe tbody tr th {\n",
       "        vertical-align: top;\n",
       "    }\n",
       "\n",
       "    .dataframe thead th {\n",
       "        text-align: right;\n",
       "    }\n",
       "</style>\n",
       "<table border=\"1\" class=\"dataframe\">\n",
       "  <thead>\n",
       "    <tr style=\"text-align: right;\">\n",
       "      <th></th>\n",
       "      <th>Junk</th>\n",
       "      <th>InteriorsStyle</th>\n",
       "      <th>PriceIndex8</th>\n",
       "      <th>ListDate</th>\n",
       "      <th>Material</th>\n",
       "      <th>PriceIndex9</th>\n",
       "      <th>Agency</th>\n",
       "      <th>AreaIncomeType</th>\n",
       "      <th>EnvRating</th>\n",
       "      <th>PriceIndex7</th>\n",
       "      <th>...</th>\n",
       "      <th>Region</th>\n",
       "      <th>PriceIndex5</th>\n",
       "      <th>SubModel</th>\n",
       "      <th>Facade</th>\n",
       "      <th>State</th>\n",
       "      <th>NormalisedPopulation</th>\n",
       "      <th>BuildYear</th>\n",
       "      <th>RegionType</th>\n",
       "      <th>PropertyAge</th>\n",
       "      <th>PriceIndex2</th>\n",
       "    </tr>\n",
       "  </thead>\n",
       "  <tbody>\n",
       "    <tr>\n",
       "      <th>0</th>\n",
       "      <td>0</td>\n",
       "      <td>6LLJ</td>\n",
       "      <td>14674.0</td>\n",
       "      <td>9/7/2010</td>\n",
       "      <td>UT7W</td>\n",
       "      <td>8270</td>\n",
       "      <td>CAT3</td>\n",
       "      <td>B</td>\n",
       "      <td>missing</td>\n",
       "      <td>13143.0</td>\n",
       "      <td>...</td>\n",
       "      <td>A</td>\n",
       "      <td>9022.0</td>\n",
       "      <td>6E9G</td>\n",
       "      <td>GREEN</td>\n",
       "      <td>MD</td>\n",
       "      <td>42077</td>\n",
       "      <td>2008</td>\n",
       "      <td>A</td>\n",
       "      <td>2</td>\n",
       "      <td>10692.0</td>\n",
       "    </tr>\n",
       "    <tr>\n",
       "      <th>1</th>\n",
       "      <td>1</td>\n",
       "      <td>XZ9F</td>\n",
       "      <td>4172.0</td>\n",
       "      <td>1/7/2009</td>\n",
       "      <td>PRN0</td>\n",
       "      <td>3890</td>\n",
       "      <td>CAT2</td>\n",
       "      <td>B</td>\n",
       "      <td>missing</td>\n",
       "      <td>3461.0</td>\n",
       "      <td>...</td>\n",
       "      <td>A</td>\n",
       "      <td>2742.0</td>\n",
       "      <td>FIVQ</td>\n",
       "      <td>SILVER</td>\n",
       "      <td>OK</td>\n",
       "      <td>77258</td>\n",
       "      <td>2002</td>\n",
       "      <td>A</td>\n",
       "      <td>7</td>\n",
       "      <td>3615.0</td>\n",
       "    </tr>\n",
       "    <tr>\n",
       "      <th>2</th>\n",
       "      <td>0</td>\n",
       "      <td>QWEV</td>\n",
       "      <td>8210.0</td>\n",
       "      <td>6/23/2010</td>\n",
       "      <td>A9RA</td>\n",
       "      <td>5900</td>\n",
       "      <td>CAT1</td>\n",
       "      <td>B</td>\n",
       "      <td>missing</td>\n",
       "      <td>6922.0</td>\n",
       "      <td>...</td>\n",
       "      <td>A</td>\n",
       "      <td>3768.0</td>\n",
       "      <td>4K0H</td>\n",
       "      <td>SILVER</td>\n",
       "      <td>SC</td>\n",
       "      <td>94514</td>\n",
       "      <td>2004</td>\n",
       "      <td>A</td>\n",
       "      <td>6</td>\n",
       "      <td>5805.0</td>\n",
       "    </tr>\n",
       "    <tr>\n",
       "      <th>3</th>\n",
       "      <td>0</td>\n",
       "      <td>MK2K</td>\n",
       "      <td>7309.0</td>\n",
       "      <td>3/19/2009</td>\n",
       "      <td>RRJQ</td>\n",
       "      <td>7460</td>\n",
       "      <td>OTHER</td>\n",
       "      <td>A</td>\n",
       "      <td>missing</td>\n",
       "      <td>6300.0</td>\n",
       "      <td>...</td>\n",
       "      <td>A</td>\n",
       "      <td>5370.0</td>\n",
       "      <td>ZLXY</td>\n",
       "      <td>WHITE</td>\n",
       "      <td>NC</td>\n",
       "      <td>82302</td>\n",
       "      <td>2002</td>\n",
       "      <td>C</td>\n",
       "      <td>7</td>\n",
       "      <td>6444.0</td>\n",
       "    </tr>\n",
       "    <tr>\n",
       "      <th>4</th>\n",
       "      <td>0</td>\n",
       "      <td>GK4G</td>\n",
       "      <td>9182.0</td>\n",
       "      <td>3/3/2010</td>\n",
       "      <td>HE5A</td>\n",
       "      <td>6400</td>\n",
       "      <td>OTHER</td>\n",
       "      <td>B</td>\n",
       "      <td>missing</td>\n",
       "      <td>8330.0</td>\n",
       "      <td>...</td>\n",
       "      <td>A</td>\n",
       "      <td>4803.0</td>\n",
       "      <td>FIVQ</td>\n",
       "      <td>SILVER</td>\n",
       "      <td>SC</td>\n",
       "      <td>49176</td>\n",
       "      <td>2007</td>\n",
       "      <td>B</td>\n",
       "      <td>3</td>\n",
       "      <td>6286.0</td>\n",
       "    </tr>\n",
       "  </tbody>\n",
       "</table>\n",
       "<p>5 rows × 31 columns</p>\n",
       "</div>"
      ],
      "text/plain": [
       "   Junk InteriorsStyle PriceIndex8   ListDate Material  PriceIndex9 Agency  \\\n",
       "0     0           6LLJ     14674.0   9/7/2010     UT7W         8270   CAT3   \n",
       "1     1           XZ9F      4172.0   1/7/2009     PRN0         3890   CAT2   \n",
       "2     0           QWEV      8210.0  6/23/2010     A9RA         5900   CAT1   \n",
       "3     0           MK2K      7309.0  3/19/2009     RRJQ         7460  OTHER   \n",
       "4     0           GK4G      9182.0   3/3/2010     HE5A         6400  OTHER   \n",
       "\n",
       "  AreaIncomeType EnvRating PriceIndex7  ...  Region PriceIndex5 SubModel  \\\n",
       "0              B   missing     13143.0  ...       A      9022.0     6E9G   \n",
       "1              B   missing      3461.0  ...       A      2742.0     FIVQ   \n",
       "2              B   missing      6922.0  ...       A      3768.0     4K0H   \n",
       "3              A   missing      6300.0  ...       A      5370.0     ZLXY   \n",
       "4              B   missing      8330.0  ...       A      4803.0     FIVQ   \n",
       "\n",
       "   Facade State NormalisedPopulation  BuildYear  RegionType PropertyAge  \\\n",
       "0   GREEN    MD                42077       2008           A           2   \n",
       "1  SILVER    OK                77258       2002           A           7   \n",
       "2  SILVER    SC                94514       2004           A           6   \n",
       "3   WHITE    NC                82302       2002           C           7   \n",
       "4  SILVER    SC                49176       2007           B           3   \n",
       "\n",
       "  PriceIndex2  \n",
       "0     10692.0  \n",
       "1      3615.0  \n",
       "2      5805.0  \n",
       "3      6444.0  \n",
       "4      6286.0  \n",
       "\n",
       "[5 rows x 31 columns]"
      ]
     },
     "execution_count": 1,
     "metadata": {},
     "output_type": "execute_result"
    }
   ],
   "source": [
    "import numpy as np\n",
    "import pandas as pd\n",
    "file1=r'C:\\Users\\acer\\Desktop\\Python Files\\Project 5\\Property_train.csv'\n",
    "file2=r'C:\\Users\\acer\\Desktop\\Python Files\\Project 5\\Property_test_share.csv'\n",
    "p_train = pd.read_csv(file1,sep=',')\n",
    "p_test = pd.read_csv(file2,sep=',')\n",
    "p_train.head()"
   ]
  },
  {
   "cell_type": "code",
   "execution_count": 2,
   "metadata": {},
   "outputs": [],
   "source": [
    "p_test['Junk']=np.nan"
   ]
  },
  {
   "cell_type": "code",
   "execution_count": 3,
   "metadata": {},
   "outputs": [],
   "source": [
    "p_train['data']='train'"
   ]
  },
  {
   "cell_type": "code",
   "execution_count": 4,
   "metadata": {},
   "outputs": [],
   "source": [
    "p_test['data']='test'"
   ]
  },
  {
   "cell_type": "code",
   "execution_count": 5,
   "metadata": {},
   "outputs": [],
   "source": [
    "p_test = p_test[p_train.columns]"
   ]
  },
  {
   "cell_type": "code",
   "execution_count": 6,
   "metadata": {},
   "outputs": [],
   "source": [
    "p_all = pd.concat([p_train,p_test],axis=0)"
   ]
  },
  {
   "cell_type": "code",
   "execution_count": 7,
   "metadata": {},
   "outputs": [
    {
     "data": {
      "text/html": [
       "<div>\n",
       "<style scoped>\n",
       "    .dataframe tbody tr th:only-of-type {\n",
       "        vertical-align: middle;\n",
       "    }\n",
       "\n",
       "    .dataframe tbody tr th {\n",
       "        vertical-align: top;\n",
       "    }\n",
       "\n",
       "    .dataframe thead th {\n",
       "        text-align: right;\n",
       "    }\n",
       "</style>\n",
       "<table border=\"1\" class=\"dataframe\">\n",
       "  <thead>\n",
       "    <tr style=\"text-align: right;\">\n",
       "      <th></th>\n",
       "      <th>Junk</th>\n",
       "      <th>InteriorsStyle</th>\n",
       "      <th>PriceIndex8</th>\n",
       "      <th>ListDate</th>\n",
       "      <th>Material</th>\n",
       "      <th>PriceIndex9</th>\n",
       "      <th>Agency</th>\n",
       "      <th>AreaIncomeType</th>\n",
       "      <th>EnvRating</th>\n",
       "      <th>PriceIndex7</th>\n",
       "      <th>...</th>\n",
       "      <th>PriceIndex5</th>\n",
       "      <th>SubModel</th>\n",
       "      <th>Facade</th>\n",
       "      <th>State</th>\n",
       "      <th>NormalisedPopulation</th>\n",
       "      <th>BuildYear</th>\n",
       "      <th>RegionType</th>\n",
       "      <th>PropertyAge</th>\n",
       "      <th>PriceIndex2</th>\n",
       "      <th>data</th>\n",
       "    </tr>\n",
       "  </thead>\n",
       "  <tbody>\n",
       "    <tr>\n",
       "      <th>0</th>\n",
       "      <td>0.0</td>\n",
       "      <td>6LLJ</td>\n",
       "      <td>14674.0</td>\n",
       "      <td>9/7/2010</td>\n",
       "      <td>UT7W</td>\n",
       "      <td>8270</td>\n",
       "      <td>CAT3</td>\n",
       "      <td>B</td>\n",
       "      <td>missing</td>\n",
       "      <td>13143.0</td>\n",
       "      <td>...</td>\n",
       "      <td>9022.0</td>\n",
       "      <td>6E9G</td>\n",
       "      <td>GREEN</td>\n",
       "      <td>MD</td>\n",
       "      <td>42077</td>\n",
       "      <td>2008</td>\n",
       "      <td>A</td>\n",
       "      <td>2</td>\n",
       "      <td>10692.0</td>\n",
       "      <td>train</td>\n",
       "    </tr>\n",
       "    <tr>\n",
       "      <th>1</th>\n",
       "      <td>1.0</td>\n",
       "      <td>XZ9F</td>\n",
       "      <td>4172.0</td>\n",
       "      <td>1/7/2009</td>\n",
       "      <td>PRN0</td>\n",
       "      <td>3890</td>\n",
       "      <td>CAT2</td>\n",
       "      <td>B</td>\n",
       "      <td>missing</td>\n",
       "      <td>3461.0</td>\n",
       "      <td>...</td>\n",
       "      <td>2742.0</td>\n",
       "      <td>FIVQ</td>\n",
       "      <td>SILVER</td>\n",
       "      <td>OK</td>\n",
       "      <td>77258</td>\n",
       "      <td>2002</td>\n",
       "      <td>A</td>\n",
       "      <td>7</td>\n",
       "      <td>3615.0</td>\n",
       "      <td>train</td>\n",
       "    </tr>\n",
       "    <tr>\n",
       "      <th>2</th>\n",
       "      <td>0.0</td>\n",
       "      <td>QWEV</td>\n",
       "      <td>8210.0</td>\n",
       "      <td>6/23/2010</td>\n",
       "      <td>A9RA</td>\n",
       "      <td>5900</td>\n",
       "      <td>CAT1</td>\n",
       "      <td>B</td>\n",
       "      <td>missing</td>\n",
       "      <td>6922.0</td>\n",
       "      <td>...</td>\n",
       "      <td>3768.0</td>\n",
       "      <td>4K0H</td>\n",
       "      <td>SILVER</td>\n",
       "      <td>SC</td>\n",
       "      <td>94514</td>\n",
       "      <td>2004</td>\n",
       "      <td>A</td>\n",
       "      <td>6</td>\n",
       "      <td>5805.0</td>\n",
       "      <td>train</td>\n",
       "    </tr>\n",
       "    <tr>\n",
       "      <th>3</th>\n",
       "      <td>0.0</td>\n",
       "      <td>MK2K</td>\n",
       "      <td>7309.0</td>\n",
       "      <td>3/19/2009</td>\n",
       "      <td>RRJQ</td>\n",
       "      <td>7460</td>\n",
       "      <td>OTHER</td>\n",
       "      <td>A</td>\n",
       "      <td>missing</td>\n",
       "      <td>6300.0</td>\n",
       "      <td>...</td>\n",
       "      <td>5370.0</td>\n",
       "      <td>ZLXY</td>\n",
       "      <td>WHITE</td>\n",
       "      <td>NC</td>\n",
       "      <td>82302</td>\n",
       "      <td>2002</td>\n",
       "      <td>C</td>\n",
       "      <td>7</td>\n",
       "      <td>6444.0</td>\n",
       "      <td>train</td>\n",
       "    </tr>\n",
       "    <tr>\n",
       "      <th>4</th>\n",
       "      <td>0.0</td>\n",
       "      <td>GK4G</td>\n",
       "      <td>9182.0</td>\n",
       "      <td>3/3/2010</td>\n",
       "      <td>HE5A</td>\n",
       "      <td>6400</td>\n",
       "      <td>OTHER</td>\n",
       "      <td>B</td>\n",
       "      <td>missing</td>\n",
       "      <td>8330.0</td>\n",
       "      <td>...</td>\n",
       "      <td>4803.0</td>\n",
       "      <td>FIVQ</td>\n",
       "      <td>SILVER</td>\n",
       "      <td>SC</td>\n",
       "      <td>49176</td>\n",
       "      <td>2007</td>\n",
       "      <td>B</td>\n",
       "      <td>3</td>\n",
       "      <td>6286.0</td>\n",
       "      <td>train</td>\n",
       "    </tr>\n",
       "    <tr>\n",
       "      <th>...</th>\n",
       "      <td>...</td>\n",
       "      <td>...</td>\n",
       "      <td>...</td>\n",
       "      <td>...</td>\n",
       "      <td>...</td>\n",
       "      <td>...</td>\n",
       "      <td>...</td>\n",
       "      <td>...</td>\n",
       "      <td>...</td>\n",
       "      <td>...</td>\n",
       "      <td>...</td>\n",
       "      <td>...</td>\n",
       "      <td>...</td>\n",
       "      <td>...</td>\n",
       "      <td>...</td>\n",
       "      <td>...</td>\n",
       "      <td>...</td>\n",
       "      <td>...</td>\n",
       "      <td>...</td>\n",
       "      <td>...</td>\n",
       "      <td>...</td>\n",
       "    </tr>\n",
       "    <tr>\n",
       "      <th>10943</th>\n",
       "      <td>NaN</td>\n",
       "      <td>DYK9</td>\n",
       "      <td>13956.0</td>\n",
       "      <td>10/26/2009</td>\n",
       "      <td>PRN0</td>\n",
       "      <td>7500</td>\n",
       "      <td>CAT2</td>\n",
       "      <td>B</td>\n",
       "      <td>missing</td>\n",
       "      <td>12860.0</td>\n",
       "      <td>...</td>\n",
       "      <td>8879.0</td>\n",
       "      <td>DZ5Y</td>\n",
       "      <td>BLUE</td>\n",
       "      <td>OK</td>\n",
       "      <td>51629</td>\n",
       "      <td>2008</td>\n",
       "      <td>A</td>\n",
       "      <td>1</td>\n",
       "      <td>9181.0</td>\n",
       "      <td>test</td>\n",
       "    </tr>\n",
       "    <tr>\n",
       "      <th>10944</th>\n",
       "      <td>NaN</td>\n",
       "      <td>GK4G</td>\n",
       "      <td>7880.0</td>\n",
       "      <td>9/28/2010</td>\n",
       "      <td>HE5A</td>\n",
       "      <td>5425</td>\n",
       "      <td>OTHER</td>\n",
       "      <td>B</td>\n",
       "      <td>missing</td>\n",
       "      <td>6845.0</td>\n",
       "      <td>...</td>\n",
       "      <td>3594.0</td>\n",
       "      <td>6E9G</td>\n",
       "      <td>BLUE</td>\n",
       "      <td>TX</td>\n",
       "      <td>69990</td>\n",
       "      <td>2006</td>\n",
       "      <td>B</td>\n",
       "      <td>4</td>\n",
       "      <td>5185.0</td>\n",
       "      <td>test</td>\n",
       "    </tr>\n",
       "    <tr>\n",
       "      <th>10945</th>\n",
       "      <td>NaN</td>\n",
       "      <td>6LLJ</td>\n",
       "      <td>16417.0</td>\n",
       "      <td>11/18/2009</td>\n",
       "      <td>2NHM</td>\n",
       "      <td>7700</td>\n",
       "      <td>CAT3</td>\n",
       "      <td>A</td>\n",
       "      <td>missing</td>\n",
       "      <td>14663.0</td>\n",
       "      <td>...</td>\n",
       "      <td>10424.0</td>\n",
       "      <td>UTUM</td>\n",
       "      <td>GREY</td>\n",
       "      <td>VA</td>\n",
       "      <td>73737</td>\n",
       "      <td>2007</td>\n",
       "      <td>A</td>\n",
       "      <td>2</td>\n",
       "      <td>12088.0</td>\n",
       "      <td>test</td>\n",
       "    </tr>\n",
       "    <tr>\n",
       "      <th>10946</th>\n",
       "      <td>NaN</td>\n",
       "      <td>2XWO</td>\n",
       "      <td>11311.0</td>\n",
       "      <td>12/6/2010</td>\n",
       "      <td>NYFD</td>\n",
       "      <td>6300</td>\n",
       "      <td>CAT2</td>\n",
       "      <td>A</td>\n",
       "      <td>missing</td>\n",
       "      <td>10292.0</td>\n",
       "      <td>...</td>\n",
       "      <td>6755.0</td>\n",
       "      <td>Y29N</td>\n",
       "      <td>WHITE</td>\n",
       "      <td>NC</td>\n",
       "      <td>85960</td>\n",
       "      <td>2007</td>\n",
       "      <td>A</td>\n",
       "      <td>3</td>\n",
       "      <td>7978.0</td>\n",
       "      <td>test</td>\n",
       "    </tr>\n",
       "    <tr>\n",
       "      <th>10947</th>\n",
       "      <td>NaN</td>\n",
       "      <td>38WH</td>\n",
       "      <td>4657.0</td>\n",
       "      <td>8/12/2009</td>\n",
       "      <td>ZCI3</td>\n",
       "      <td>5000</td>\n",
       "      <td>CAT2</td>\n",
       "      <td>A</td>\n",
       "      <td>missing</td>\n",
       "      <td>3524.0</td>\n",
       "      <td>...</td>\n",
       "      <td>2800.0</td>\n",
       "      <td>FIVQ</td>\n",
       "      <td>GOLD</td>\n",
       "      <td>GA</td>\n",
       "      <td>69307</td>\n",
       "      <td>2004</td>\n",
       "      <td>A</td>\n",
       "      <td>5</td>\n",
       "      <td>3447.0</td>\n",
       "      <td>test</td>\n",
       "    </tr>\n",
       "  </tbody>\n",
       "</table>\n",
       "<p>72983 rows × 32 columns</p>\n",
       "</div>"
      ],
      "text/plain": [
       "       Junk InteriorsStyle PriceIndex8    ListDate Material  PriceIndex9  \\\n",
       "0       0.0           6LLJ     14674.0    9/7/2010     UT7W         8270   \n",
       "1       1.0           XZ9F      4172.0    1/7/2009     PRN0         3890   \n",
       "2       0.0           QWEV      8210.0   6/23/2010     A9RA         5900   \n",
       "3       0.0           MK2K      7309.0   3/19/2009     RRJQ         7460   \n",
       "4       0.0           GK4G      9182.0    3/3/2010     HE5A         6400   \n",
       "...     ...            ...         ...         ...      ...          ...   \n",
       "10943   NaN           DYK9     13956.0  10/26/2009     PRN0         7500   \n",
       "10944   NaN           GK4G      7880.0   9/28/2010     HE5A         5425   \n",
       "10945   NaN           6LLJ     16417.0  11/18/2009     2NHM         7700   \n",
       "10946   NaN           2XWO     11311.0   12/6/2010     NYFD         6300   \n",
       "10947   NaN           38WH      4657.0   8/12/2009     ZCI3         5000   \n",
       "\n",
       "      Agency AreaIncomeType EnvRating PriceIndex7  ...  PriceIndex5 SubModel  \\\n",
       "0       CAT3              B   missing     13143.0  ...       9022.0     6E9G   \n",
       "1       CAT2              B   missing      3461.0  ...       2742.0     FIVQ   \n",
       "2       CAT1              B   missing      6922.0  ...       3768.0     4K0H   \n",
       "3      OTHER              A   missing      6300.0  ...       5370.0     ZLXY   \n",
       "4      OTHER              B   missing      8330.0  ...       4803.0     FIVQ   \n",
       "...      ...            ...       ...         ...  ...          ...      ...   \n",
       "10943   CAT2              B   missing     12860.0  ...       8879.0     DZ5Y   \n",
       "10944  OTHER              B   missing      6845.0  ...       3594.0     6E9G   \n",
       "10945   CAT3              A   missing     14663.0  ...      10424.0     UTUM   \n",
       "10946   CAT2              A   missing     10292.0  ...       6755.0     Y29N   \n",
       "10947   CAT2              A   missing      3524.0  ...       2800.0     FIVQ   \n",
       "\n",
       "       Facade State NormalisedPopulation BuildYear  RegionType  PropertyAge  \\\n",
       "0       GREEN    MD                42077      2008           A            2   \n",
       "1      SILVER    OK                77258      2002           A            7   \n",
       "2      SILVER    SC                94514      2004           A            6   \n",
       "3       WHITE    NC                82302      2002           C            7   \n",
       "4      SILVER    SC                49176      2007           B            3   \n",
       "...       ...   ...                  ...       ...         ...          ...   \n",
       "10943    BLUE    OK                51629      2008           A            1   \n",
       "10944    BLUE    TX                69990      2006           B            4   \n",
       "10945    GREY    VA                73737      2007           A            2   \n",
       "10946   WHITE    NC                85960      2007           A            3   \n",
       "10947    GOLD    GA                69307      2004           A            5   \n",
       "\n",
       "      PriceIndex2   data  \n",
       "0         10692.0  train  \n",
       "1          3615.0  train  \n",
       "2          5805.0  train  \n",
       "3          6444.0  train  \n",
       "4          6286.0  train  \n",
       "...           ...    ...  \n",
       "10943      9181.0   test  \n",
       "10944      5185.0   test  \n",
       "10945     12088.0   test  \n",
       "10946      7978.0   test  \n",
       "10947      3447.0   test  \n",
       "\n",
       "[72983 rows x 32 columns]"
      ]
     },
     "execution_count": 7,
     "metadata": {},
     "output_type": "execute_result"
    }
   ],
   "source": [
    "p_all"
   ]
  },
  {
   "cell_type": "code",
   "execution_count": 8,
   "metadata": {},
   "outputs": [],
   "source": [
    "p_all.drop(['InteriorsStyle','ListDate','Material','SubModel'],axis =1,inplace=True)"
   ]
  },
  {
   "cell_type": "code",
   "execution_count": 9,
   "metadata": {},
   "outputs": [
    {
     "data": {
      "text/plain": [
       "Index(['PriceIndex8', 'Agency', 'AreaIncomeType', 'EnvRating', 'PriceIndex7',\n",
       "       'PriceIndex4', 'PriceIndex1', 'PriceIndex6', 'PRIMEUNIT', 'Channel',\n",
       "       'PlotType', 'Architecture', 'PriceIndex3', 'Region', 'PriceIndex5',\n",
       "       'Facade', 'State', 'RegionType', 'PriceIndex2', 'data'],\n",
       "      dtype='object')"
      ]
     },
     "execution_count": 9,
     "metadata": {},
     "output_type": "execute_result"
    }
   ],
   "source": [
    "p_all.select_dtypes(['object']).columns"
   ]
  },
  {
   "cell_type": "code",
   "execution_count": 10,
   "metadata": {},
   "outputs": [],
   "source": [
    "for col in ['PriceIndex8',  'PriceIndex7','PriceIndex4', 'PriceIndex1', 'PriceIndex6',\n",
    "            'PriceIndex3', 'PriceIndex5','PriceIndex2']:\n",
    "    p_all[col] = pd.to_numeric(p_all[col],errors = 'coerce')"
   ]
  },
  {
   "cell_type": "code",
   "execution_count": 11,
   "metadata": {},
   "outputs": [
    {
     "name": "stdout",
     "output_type": "stream",
     "text": [
      "PlotType\n",
      "Architecture\n",
      "State\n",
      "Agency\n",
      "AreaIncomeType\n",
      "EnvRating\n",
      "Channel\n",
      "PRIMEUNIT\n",
      "Region\n",
      "Facade\n",
      "RegionType\n"
     ]
    }
   ],
   "source": [
    "cat_cols1 = ['PlotType', 'Architecture','State']\n",
    "for col in cat_cols1:\n",
    "    freqs=p_all[col].value_counts()\n",
    "    k=freqs.index[freqs>500][:-1]\n",
    "    for cat in k:\n",
    "        name=col+'_'+cat\n",
    "        p_all[name]=(p_all[col]==cat).astype(int)\n",
    "    del p_all[col]\n",
    "    print(col)\n",
    "cat_cols2 =['Agency', 'AreaIncomeType', 'EnvRating', 'Channel', 'PRIMEUNIT','Region','Facade','RegionType']    \n",
    "for col in cat_cols2:\n",
    "    dummy=pd.get_dummies(p_all[col],drop_first=True,prefix=col)\n",
    "    p_all=pd.concat([p_all,dummy],axis=1)\n",
    "    del p_all[col]\n",
    "    print(col)\n",
    "del dummy    \n"
   ]
  },
  {
   "cell_type": "code",
   "execution_count": 12,
   "metadata": {},
   "outputs": [
    {
     "data": {
      "text/plain": [
       "Junk                  10948\n",
       "PriceIndex8             315\n",
       "PriceIndex9               0\n",
       "PriceIndex7             315\n",
       "ExpeditedListing          0\n",
       "                      ...  \n",
       "Facade_missing            0\n",
       "RegionType_B              0\n",
       "RegionType_C              0\n",
       "RegionType_OTHER          0\n",
       "RegionType_missing        0\n",
       "Length: 96, dtype: int64"
      ]
     },
     "execution_count": 12,
     "metadata": {},
     "output_type": "execute_result"
    }
   ],
   "source": [
    "p_all.isnull().sum()"
   ]
  },
  {
   "cell_type": "code",
   "execution_count": 13,
   "metadata": {},
   "outputs": [],
   "source": [
    "for col in p_all.columns:\n",
    "    if (col not in ['Junk','data'])& (p_all[col].isnull().sum()>0):\n",
    "        p_all.loc[p_all[col].isnull(),col]=p_all.loc[p_all['data']=='train',col].mean()"
   ]
  },
  {
   "cell_type": "code",
   "execution_count": 14,
   "metadata": {},
   "outputs": [],
   "source": [
    "p_train = p_all[p_all['data']=='train']"
   ]
  },
  {
   "cell_type": "code",
   "execution_count": 15,
   "metadata": {},
   "outputs": [],
   "source": [
    "del p_train['data']"
   ]
  },
  {
   "cell_type": "code",
   "execution_count": 16,
   "metadata": {},
   "outputs": [],
   "source": [
    "p_test = p_all[p_all['data']=='test']"
   ]
  },
  {
   "cell_type": "code",
   "execution_count": 17,
   "metadata": {},
   "outputs": [
    {
     "name": "stderr",
     "output_type": "stream",
     "text": [
      "C:\\Users\\acer\\anaconda3\\lib\\site-packages\\pandas\\core\\frame.py:3997: SettingWithCopyWarning: \n",
      "A value is trying to be set on a copy of a slice from a DataFrame\n",
      "\n",
      "See the caveats in the documentation: https://pandas.pydata.org/pandas-docs/stable/user_guide/indexing.html#returning-a-view-versus-a-copy\n",
      "  errors=errors,\n"
     ]
    }
   ],
   "source": [
    "p_test.drop(['Junk','data'],axis=1,inplace=True,errors = 'coerce')"
   ]
  },
  {
   "cell_type": "code",
   "execution_count": 18,
   "metadata": {},
   "outputs": [],
   "source": [
    "from sklearn.model_selection import train_test_split\n",
    "p_train1,p_train2 = train_test_split(p_train,test_size= 0.2,random_state = 2)\n",
    "x_train=p_train1.drop(['Junk'],1)\n",
    "y_train=p_train1['Junk'].astype(int)\n",
    "x_test=p_train2.drop(['Junk'],1)\n",
    "y_test=p_train2['Junk'].astype(int)\n"
   ]
  },
  {
   "cell_type": "code",
   "execution_count": 19,
   "metadata": {},
   "outputs": [
    {
     "data": {
      "text/plain": [
       "0    43592\n",
       "1     6036\n",
       "Name: Junk, dtype: int64"
      ]
     },
     "execution_count": 19,
     "metadata": {},
     "output_type": "execute_result"
    }
   ],
   "source": [
    "y_train.value_counts()"
   ]
  },
  {
   "cell_type": "code",
   "execution_count": 20,
   "metadata": {},
   "outputs": [],
   "source": [
    "from sklearn.model_selection import RandomizedSearchCV"
   ]
  },
  {
   "cell_type": "code",
   "execution_count": 21,
   "metadata": {},
   "outputs": [],
   "source": [
    "from sklearn.ensemble import RandomForestClassifier"
   ]
  },
  {
   "cell_type": "code",
   "execution_count": 22,
   "metadata": {},
   "outputs": [],
   "source": [
    "clf = RandomForestClassifier(class_weight='balanced', criterion='entropy',\n",
    "                       max_features=25, min_samples_leaf=20, min_samples_split=15,\n",
    "                       n_estimators=500)"
   ]
  },
  {
   "cell_type": "code",
   "execution_count": 23,
   "metadata": {},
   "outputs": [],
   "source": [
    "# param_dist = {\"n_estimators\":[100,200,300,500,700,1000],\n",
    "#               \"max_features\": [5,10,20,25,30,35],\n",
    "#               \"bootstrap\": [True, False],\n",
    "#               'class_weight':[None,'balanced'], \n",
    "#                 'criterion':['entropy','gini'],\n",
    "#                 'max_depth':[None,5,10,15,20,30,50,70],\n",
    "#                 'min_samples_leaf':[1,2,5,10,15,20], \n",
    "#                 'min_samples_split':[2,5,10,15,20]\n",
    "#                   }\n",
    "\n",
    "# RandomForestClassifier(class_weight='balanced', criterion='entropy',\n",
    "#                        max_features=25, min_samples_leaf=10, min_samples_split=5,\n",
    "#                        n_estimators=500)"
   ]
  },
  {
   "cell_type": "code",
   "execution_count": 24,
   "metadata": {},
   "outputs": [
    {
     "data": {
      "text/plain": [
       "RandomForestClassifier(class_weight='balanced', criterion='entropy',\n",
       "                       max_features=25, min_samples_leaf=20,\n",
       "                       min_samples_split=15, n_estimators=500)"
      ]
     },
     "execution_count": 24,
     "metadata": {},
     "output_type": "execute_result"
    }
   ],
   "source": [
    "# random_search = RandomizedSearchCV(clf, param_distributions=param_dist,\n",
    "#                                    n_iter=5,scoring='roc_auc',cv=5)\n",
    "clf.fit(x_train, y_train)"
   ]
  },
  {
   "cell_type": "code",
   "execution_count": 25,
   "metadata": {},
   "outputs": [],
   "source": [
    "# rf = random_search.best_estimator_"
   ]
  },
  {
   "cell_type": "code",
   "execution_count": 26,
   "metadata": {},
   "outputs": [],
   "source": [
    "# rf.fit(x_train,y_train)"
   ]
  },
  {
   "cell_type": "code",
   "execution_count": 27,
   "metadata": {},
   "outputs": [],
   "source": [
    "from sklearn.metrics import roc_auc_score\n"
   ]
  },
  {
   "cell_type": "code",
   "execution_count": 28,
   "metadata": {},
   "outputs": [
    {
     "data": {
      "text/plain": [
       "28610    0\n",
       "54238    0\n",
       "25546    0\n",
       "16011    0\n",
       "25341    0\n",
       "        ..\n",
       "29802    1\n",
       "33591    0\n",
       "14722    0\n",
       "57387    0\n",
       "2056     0\n",
       "Name: Junk, Length: 12407, dtype: int32"
      ]
     },
     "execution_count": 28,
     "metadata": {},
     "output_type": "execute_result"
    }
   ],
   "source": [
    "y_test"
   ]
  },
  {
   "cell_type": "code",
   "execution_count": 29,
   "metadata": {},
   "outputs": [
    {
     "data": {
      "text/plain": [
       "array([0, 0, 0, ..., 0, 0, 0])"
      ]
     },
     "execution_count": 29,
     "metadata": {},
     "output_type": "execute_result"
    }
   ],
   "source": [
    "predict_rf = clf.predict(x_test).astype(int)\n",
    "predict_rf"
   ]
  },
  {
   "cell_type": "code",
   "execution_count": 30,
   "metadata": {},
   "outputs": [],
   "source": [
    "score_rf = roc_auc_score(y_test,predict_rf)"
   ]
  },
  {
   "cell_type": "code",
   "execution_count": 31,
   "metadata": {},
   "outputs": [
    {
     "data": {
      "text/plain": [
       "0.6739232465371103"
      ]
     },
     "execution_count": 31,
     "metadata": {},
     "output_type": "execute_result"
    }
   ],
   "source": [
    "score_rf"
   ]
  },
  {
   "cell_type": "code",
   "execution_count": 32,
   "metadata": {},
   "outputs": [],
   "source": [
    "from sklearn.ensemble import GradientBoostingClassifier\n"
   ]
  },
  {
   "cell_type": "code",
   "execution_count": 33,
   "metadata": {},
   "outputs": [],
   "source": [
    "# gbm_params={'n_estimators':[50,100,200,500,700],\n",
    "#            'learning_rate': [0.01,.05,0.1,0.4,0.8,1],\n",
    "#             'max_depth':[1,2,3,4,5,6],\n",
    "# #             'min_samples_split':[2,5,10,20],\n",
    "# #             'min_samples_leaf':[2,5,10,20],\n",
    "#             'subsample':[0.5,0.8,1],\n",
    "#             'max_features':[5,10,15,20,30,45]\n",
    "#            }\n"
   ]
  },
  {
   "cell_type": "code",
   "execution_count": 34,
   "metadata": {},
   "outputs": [],
   "source": [
    "# gbm=GradientBoostingClassifier(learning_rate=0.05, max_depth=6, max_features=25,\n",
    "#                            subsample=0.8)"
   ]
  },
  {
   "cell_type": "code",
   "execution_count": 35,
   "metadata": {},
   "outputs": [],
   "source": [
    "# random_search_1=RandomizedSearchCV(gbm,scoring='roc_auc',param_distributions=gbm_params,\n",
    "#                                  cv=5,n_iter=10,\n",
    "#                                  n_jobs=-1)"
   ]
  },
  {
   "cell_type": "code",
   "execution_count": 36,
   "metadata": {},
   "outputs": [],
   "source": [
    "# gbm.fit(x_train,y_train)\n"
   ]
  },
  {
   "cell_type": "code",
   "execution_count": 37,
   "metadata": {},
   "outputs": [],
   "source": [
    "# gb= random_search_1.best_estimator_"
   ]
  },
  {
   "cell_type": "code",
   "execution_count": 38,
   "metadata": {},
   "outputs": [],
   "source": [
    "# gb.fit(x_train,y_train)"
   ]
  },
  {
   "cell_type": "code",
   "execution_count": 39,
   "metadata": {},
   "outputs": [],
   "source": [
    "# predict_gb = gbm.predict(x_test).astype(int)\n",
    "# score_gb = roc_auc_score(y_test,predict_gb)\n",
    "# score_gb"
   ]
  },
  {
   "cell_type": "code",
   "execution_count": 41,
   "metadata": {},
   "outputs": [],
   "source": [
    "X_train = p_train.drop('Junk',axis =1 )\n",
    "Y_train = p_train['Junk']\n",
    "clf.fit(X_train,Y_train)\n",
    "test_pred = clf.predict_proba(p_test)[:,1]\n",
    "pd.DataFrame(test_pred).to_csv(\"Gayatri_Srinivasan_Project5.csv\",index=False)"
   ]
  },
  {
   "cell_type": "code",
   "execution_count": 42,
   "metadata": {},
   "outputs": [
    {
     "data": {
      "text/plain": [
       "'C:\\\\Users\\\\acer\\\\Desktop\\\\Python Files\\\\Project 5'"
      ]
     },
     "execution_count": 42,
     "metadata": {},
     "output_type": "execute_result"
    }
   ],
   "source": [
    "pwd"
   ]
  },
  {
   "cell_type": "code",
   "execution_count": null,
   "metadata": {},
   "outputs": [],
   "source": []
  }
 ],
 "metadata": {
  "kernelspec": {
   "display_name": "Python 3",
   "language": "python",
   "name": "python3"
  },
  "language_info": {
   "codemirror_mode": {
    "name": "ipython",
    "version": 3
   },
   "file_extension": ".py",
   "mimetype": "text/x-python",
   "name": "python",
   "nbconvert_exporter": "python",
   "pygments_lexer": "ipython3",
   "version": "3.6.10"
  }
 },
 "nbformat": 4,
 "nbformat_minor": 4
}
